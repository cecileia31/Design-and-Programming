{
  "cells": [
    {
      "cell_type": "markdown",
      "metadata": {
        "id": "8A-NGVd2n1_r"
      },
      "source": [
        "# CSC-40076: Design and Programming\n",
        "## Programming Task to Assess Basic Design and Programming Skills 2\n",
        "Student: SI SI CECILE WONG\n",
        "\n",
        "Student No.: 24040592\n",
        "\n",
        "Date: 28th April 2025\n",
        "\n",
        "\n",
        "\n",
        "---\n",
        "\n"
      ]
    },
    {
      "cell_type": "markdown",
      "metadata": {
        "id": "1V5m2VZgFb8u"
      },
      "source": [
        "## Table of Contents\n",
        "\n",
        "[ **Section 0: Introduction** ](https://colab.research.google.com/drive/10ts-A7tKBjzqJ4BZjDmbLyTrbELVTuVR#scrollTo=lgnLNiB8BoHo&line=16&uniqifier=1)\n",
        "\n",
        "[**Task 1: CSV to JSON Conversion and Borrowing Books**](https://colab.research.google.com/drive/10ts-A7tKBjzqJ4BZjDmbLyTrbELVTuVR#scrollTo=k4IJzXyHyCzJ&line=2&uniqifier=1)\n",
        "\n",
        "- [Section 1: CSV to JSON Conversion ](https://colab.research.google.com/drive/10ts-A7tKBjzqJ4BZjDmbLyTrbELVTuVR#scrollTo=l00v9cs8Fkf0&line=9&uniqifier=1)\n",
        "\n",
        "- [Section 2: Defining Book and Member Classes](https://colab.research.google.com/drive/10ts-A7tKBjzqJ4BZjDmbLyTrbELVTuVR#scrollTo=vDtSKt5kFx0c&line=3&uniqifier=1)\n",
        "\n",
        "- [Section 3: Borrowing a Book](https://colab.research.google.com/drive/10ts-A7tKBjzqJ4BZjDmbLyTrbELVTuVR#scrollTo=vkpolS-mBvuy&line=2&uniqifier=1)\n",
        "\n",
        "- [Dummy Data Testing](https://colab.research.google.com/drive/10ts-A7tKBjzqJ4BZjDmbLyTrbELVTuVR#scrollTo=0FqOq1kFDemO&line=1&uniqifier=1)\n",
        "\n",
        "[**Task 2: Returning Books**](https://colab.research.google.com/drive/10ts-A7tKBjzqJ4BZjDmbLyTrbELVTuVR#scrollTo=nX3xpn47yo3F&line=2&uniqifier=1)\n",
        "\n",
        "- [Section 4: Returning a Book](https://colab.research.google.com/drive/10ts-A7tKBjzqJ4BZjDmbLyTrbELVTuVR#scrollTo=YAADb8AvBzd1&line=2&uniqifier=1)\n",
        "\n",
        "- [Dummy Data Testing](https://colab.research.google.com/drive/10ts-A7tKBjzqJ4BZjDmbLyTrbELVTuVR#scrollTo=44--UMqvK3Ja&line=4&uniqifier=1)\n",
        "\n",
        "[**Task 3: Membership Application and Card Issuance**\n",
        "](https://colab.research.google.com/drive/10ts-A7tKBjzqJ4BZjDmbLyTrbELVTuVR#scrollTo=zclrelB7zLbH&line=3&uniqifier=1)\n",
        "- [Section 5: Membership Application and Card Format and Handling System](https://colab.research.google.com/drive/10ts-A7tKBjzqJ4BZjDmbLyTrbELVTuVR#scrollTo=1edfe263&line=3&uniqifier=1)\n",
        "\n",
        "- [Section 6: New Membership Application](https://colab.research.google.com/drive/10ts-A7tKBjzqJ4BZjDmbLyTrbELVTuVR#scrollTo=8gV-X4DzmHDS&line=3&uniqifier=1)\n",
        "\n",
        "- [Dummy Data Testing](https://colab.research.google.com/drive/10ts-A7tKBjzqJ4BZjDmbLyTrbELVTuVR#scrollTo=rZrqyz7HmfI0&line=7&uniqifier=1)\n",
        "\n",
        "[**Task 4: Reserving Books**](https://colab.research.google.com/drive/10ts-A7tKBjzqJ4BZjDmbLyTrbELVTuVR#scrollTo=97vyFow7zV4t&line=3&uniqifier=1)\n",
        "\n",
        "- [Section 7: Reserving a Book](https://colab.research.google.com/drive/10ts-A7tKBjzqJ4BZjDmbLyTrbELVTuVR#scrollTo=mJNlHEIwUKCs&line=3&uniqifier=1)\n",
        "\n",
        "- [Dummy Data Testing](https://colab.research.google.com/drive/10ts-A7tKBjzqJ4BZjDmbLyTrbELVTuVR#scrollTo=_t0zg9Dr7Yn_&line=4&uniqifier=1)\n",
        "\n",
        "[**Task 5: Notifications and Late Return Fine**](https://colab.research.google.com/drive/10ts-A7tKBjzqJ4BZjDmbLyTrbELVTuVR#scrollTo=aIcGQQD1zgso&line=1&uniqifier=1)\n",
        "\n",
        "- [Section 8: Notification of Available Reserved Book](https://colab.research.google.com/drive/10ts-A7tKBjzqJ4BZjDmbLyTrbELVTuVR#scrollTo=sBZLqD3iCHkD&line=3&uniqifier=1)\n",
        "- [Dummy Data Testing](https://colab.research.google.com/drive/10ts-A7tKBjzqJ4BZjDmbLyTrbELVTuVR#scrollTo=YleHidj2cqIb&line=5&uniqifier=1)\n",
        "- [Section 9:  Notification System Extensibility](https://colab.research.google.com/drive/10ts-A7tKBjzqJ4BZjDmbLyTrbELVTuVR#scrollTo=3hT1CSPsLYDg&line=1&uniqifier=1)\n",
        "\n",
        "\n",
        "\n",
        "[**Section 10: Evidence of CSV/JSON File Handling**](https://colab.research.google.com/drive/10ts-A7tKBjzqJ4BZjDmbLyTrbELVTuVR#scrollTo=2cce50f7&line=2&uniqifier=1)\n",
        "\n",
        "[**Section 11: Future Extensibility of the Notification System**](https://colab.research.google.com/drive/10ts-A7tKBjzqJ4BZjDmbLyTrbELVTuVR#scrollTo=cx-uuCiACMpb&line=1&uniqifier=1)\n",
        "\n",
        "[**Section 12: Conclusion**](https://colab.research.google.com/drive/10ts-A7tKBjzqJ4BZjDmbLyTrbELVTuVR#scrollTo=glopXKPQpcZv&line=1&uniqifier=1)\n"
      ]
    },
    {
      "cell_type": "markdown",
      "source": [
        "## Section 0: Introduction and Setup\n",
        "\n",
        "### Library Notification System\n",
        "\n",
        "This Jupyter Notebook presents a simulation of a Library Management System, designed to fulfil the requirements of CSC-40076: Design and Programming, Assignment 2.\n",
        "\n",
        "The system processes and manages data relating to library books, members, and loan transactions. The original CSV files provided (books_2024.csv, bookloans_2024.csv, and members_2024.csv) are initially converted into JSON format, and all file updates during the tasks are carried out and demonstrated within this notebook.\n",
        "\n",
        "The solution adopts a modular and object-oriented approach, introducing custom Book and Member classes with dedicated methods such as scan(), to simulate library operations in a realistic manner. Each operation, including borrowing and returning books, reserving titles, issuing membership cards, and managing late returns, is supported by appropriate functions and methods. Notifications are simulated through a sendEmail() method, ensuring that the system is capable of sending alerts when necessary, such as for late returns or available reservations.\n",
        "\n",
        "Preconditions and postconditions are clearly documented through docstrings, and the flow of code is maintained with clear comments where required. The notification system has been designed with extensibility in mind, allowing for the straightforward incorporation of additional notification types in the future. This notebook aims to demonstrate all required functionalities in a logical sequence, while ensuring a clear structure and ease of assessment.\n",
        "\n",
        "###Tasks Overview\n",
        "The notebook addresses all required tasks as outlined in the assignment brief. Task 1 demonstrates the conversion of CSV files to JSON format and the creation of the scan() methods. Task 2 handles the functionality for returning books, ensuring updates are made to the relevant JSON files. Task 3 implements the membership application system, generating unique card numbers according to the specified format. Task 4 provides the ability for members to reserve books, with appropriate updates recorded. Task 5 simulates two types of notifications: notifying members when a reserved book becomes available, and informing them of late returns along with the application of fines. Finally, the system's extensibility and file handling are discussed to meet the design and documentation expectations set out in the rubric.\n",
        "\n"
      ],
      "metadata": {
        "id": "lgnLNiB8BoHo"
      }
    },
    {
      "cell_type": "code",
      "execution_count": 3,
      "metadata": {
        "id": "C7zen-WqFVjM"
      },
      "outputs": [],
      "source": [
        "# Imports\n",
        "import csv\n",
        "import json\n",
        "from datetime import datetime, timedelta\n",
        "from typing import Dict, Any\n"
      ]
    },
    {
      "cell_type": "code",
      "source": [
        "# Alternatively import from:\n",
        "from google.colab import drive\n",
        "drive.mount('/content/drive')"
      ],
      "metadata": {
        "colab": {
          "base_uri": "https://localhost:8080/",
          "height": 382
        },
        "id": "zUI1YlwUUNSp",
        "outputId": "f9bdf721-c2f5-4ecb-9a1d-e5c99336f362"
      },
      "execution_count": 23,
      "outputs": [
        {
          "output_type": "error",
          "ename": "MessageError",
          "evalue": "Error: credential propagation was unsuccessful",
          "traceback": [
            "\u001b[0;31m---------------------------------------------------------------------------\u001b[0m",
            "\u001b[0;31mMessageError\u001b[0m                              Traceback (most recent call last)",
            "\u001b[0;32m<ipython-input-23-60fe7d6b75cf>\u001b[0m in \u001b[0;36m<cell line: 0>\u001b[0;34m()\u001b[0m\n\u001b[1;32m      1\u001b[0m \u001b[0;31m# Alternatively import from:\u001b[0m\u001b[0;34m\u001b[0m\u001b[0;34m\u001b[0m\u001b[0m\n\u001b[1;32m      2\u001b[0m \u001b[0;32mfrom\u001b[0m \u001b[0mgoogle\u001b[0m\u001b[0;34m.\u001b[0m\u001b[0mcolab\u001b[0m \u001b[0;32mimport\u001b[0m \u001b[0mdrive\u001b[0m\u001b[0;34m\u001b[0m\u001b[0;34m\u001b[0m\u001b[0m\n\u001b[0;32m----> 3\u001b[0;31m \u001b[0mdrive\u001b[0m\u001b[0;34m.\u001b[0m\u001b[0mmount\u001b[0m\u001b[0;34m(\u001b[0m\u001b[0;34m'/content/drive'\u001b[0m\u001b[0;34m)\u001b[0m\u001b[0;34m\u001b[0m\u001b[0;34m\u001b[0m\u001b[0m\n\u001b[0m",
            "\u001b[0;32m/usr/local/lib/python3.11/dist-packages/google/colab/drive.py\u001b[0m in \u001b[0;36mmount\u001b[0;34m(mountpoint, force_remount, timeout_ms, readonly)\u001b[0m\n\u001b[1;32m     98\u001b[0m \u001b[0;32mdef\u001b[0m \u001b[0mmount\u001b[0m\u001b[0;34m(\u001b[0m\u001b[0mmountpoint\u001b[0m\u001b[0;34m,\u001b[0m \u001b[0mforce_remount\u001b[0m\u001b[0;34m=\u001b[0m\u001b[0;32mFalse\u001b[0m\u001b[0;34m,\u001b[0m \u001b[0mtimeout_ms\u001b[0m\u001b[0;34m=\u001b[0m\u001b[0;36m120000\u001b[0m\u001b[0;34m,\u001b[0m \u001b[0mreadonly\u001b[0m\u001b[0;34m=\u001b[0m\u001b[0;32mFalse\u001b[0m\u001b[0;34m)\u001b[0m\u001b[0;34m:\u001b[0m\u001b[0;34m\u001b[0m\u001b[0;34m\u001b[0m\u001b[0m\n\u001b[1;32m     99\u001b[0m   \u001b[0;34m\"\"\"Mount your Google Drive at the specified mountpoint path.\"\"\"\u001b[0m\u001b[0;34m\u001b[0m\u001b[0;34m\u001b[0m\u001b[0m\n\u001b[0;32m--> 100\u001b[0;31m   return _mount(\n\u001b[0m\u001b[1;32m    101\u001b[0m       \u001b[0mmountpoint\u001b[0m\u001b[0;34m,\u001b[0m\u001b[0;34m\u001b[0m\u001b[0;34m\u001b[0m\u001b[0m\n\u001b[1;32m    102\u001b[0m       \u001b[0mforce_remount\u001b[0m\u001b[0;34m=\u001b[0m\u001b[0mforce_remount\u001b[0m\u001b[0;34m,\u001b[0m\u001b[0;34m\u001b[0m\u001b[0;34m\u001b[0m\u001b[0m\n",
            "\u001b[0;32m/usr/local/lib/python3.11/dist-packages/google/colab/drive.py\u001b[0m in \u001b[0;36m_mount\u001b[0;34m(mountpoint, force_remount, timeout_ms, ephemeral, readonly)\u001b[0m\n\u001b[1;32m    135\u001b[0m   )\n\u001b[1;32m    136\u001b[0m   \u001b[0;32mif\u001b[0m \u001b[0mephemeral\u001b[0m\u001b[0;34m:\u001b[0m\u001b[0;34m\u001b[0m\u001b[0;34m\u001b[0m\u001b[0m\n\u001b[0;32m--> 137\u001b[0;31m     _message.blocking_request(\n\u001b[0m\u001b[1;32m    138\u001b[0m         \u001b[0;34m'request_auth'\u001b[0m\u001b[0;34m,\u001b[0m\u001b[0;34m\u001b[0m\u001b[0;34m\u001b[0m\u001b[0m\n\u001b[1;32m    139\u001b[0m         \u001b[0mrequest\u001b[0m\u001b[0;34m=\u001b[0m\u001b[0;34m{\u001b[0m\u001b[0;34m'authType'\u001b[0m\u001b[0;34m:\u001b[0m \u001b[0;34m'dfs_ephemeral'\u001b[0m\u001b[0;34m}\u001b[0m\u001b[0;34m,\u001b[0m\u001b[0;34m\u001b[0m\u001b[0;34m\u001b[0m\u001b[0m\n",
            "\u001b[0;32m/usr/local/lib/python3.11/dist-packages/google/colab/_message.py\u001b[0m in \u001b[0;36mblocking_request\u001b[0;34m(request_type, request, timeout_sec, parent)\u001b[0m\n\u001b[1;32m    174\u001b[0m       \u001b[0mrequest_type\u001b[0m\u001b[0;34m,\u001b[0m \u001b[0mrequest\u001b[0m\u001b[0;34m,\u001b[0m \u001b[0mparent\u001b[0m\u001b[0;34m=\u001b[0m\u001b[0mparent\u001b[0m\u001b[0;34m,\u001b[0m \u001b[0mexpect_reply\u001b[0m\u001b[0;34m=\u001b[0m\u001b[0;32mTrue\u001b[0m\u001b[0;34m\u001b[0m\u001b[0;34m\u001b[0m\u001b[0m\n\u001b[1;32m    175\u001b[0m   )\n\u001b[0;32m--> 176\u001b[0;31m   \u001b[0;32mreturn\u001b[0m \u001b[0mread_reply_from_input\u001b[0m\u001b[0;34m(\u001b[0m\u001b[0mrequest_id\u001b[0m\u001b[0;34m,\u001b[0m \u001b[0mtimeout_sec\u001b[0m\u001b[0;34m)\u001b[0m\u001b[0;34m\u001b[0m\u001b[0;34m\u001b[0m\u001b[0m\n\u001b[0m",
            "\u001b[0;32m/usr/local/lib/python3.11/dist-packages/google/colab/_message.py\u001b[0m in \u001b[0;36mread_reply_from_input\u001b[0;34m(message_id, timeout_sec)\u001b[0m\n\u001b[1;32m    101\u001b[0m     ):\n\u001b[1;32m    102\u001b[0m       \u001b[0;32mif\u001b[0m \u001b[0;34m'error'\u001b[0m \u001b[0;32min\u001b[0m \u001b[0mreply\u001b[0m\u001b[0;34m:\u001b[0m\u001b[0;34m\u001b[0m\u001b[0;34m\u001b[0m\u001b[0m\n\u001b[0;32m--> 103\u001b[0;31m         \u001b[0;32mraise\u001b[0m \u001b[0mMessageError\u001b[0m\u001b[0;34m(\u001b[0m\u001b[0mreply\u001b[0m\u001b[0;34m[\u001b[0m\u001b[0;34m'error'\u001b[0m\u001b[0;34m]\u001b[0m\u001b[0;34m)\u001b[0m\u001b[0;34m\u001b[0m\u001b[0;34m\u001b[0m\u001b[0m\n\u001b[0m\u001b[1;32m    104\u001b[0m       \u001b[0;32mreturn\u001b[0m \u001b[0mreply\u001b[0m\u001b[0;34m.\u001b[0m\u001b[0mget\u001b[0m\u001b[0;34m(\u001b[0m\u001b[0;34m'data'\u001b[0m\u001b[0;34m,\u001b[0m \u001b[0;32mNone\u001b[0m\u001b[0;34m)\u001b[0m\u001b[0;34m\u001b[0m\u001b[0;34m\u001b[0m\u001b[0m\n\u001b[1;32m    105\u001b[0m \u001b[0;34m\u001b[0m\u001b[0m\n",
            "\u001b[0;31mMessageError\u001b[0m: Error: credential propagation was unsuccessful"
          ]
        }
      ]
    },
    {
      "cell_type": "markdown",
      "metadata": {
        "id": "4lxLKt6JFgEg"
      },
      "source": [
        "This set constants for file paths (books_2024.csv, bookloans_2024.csv, members_2024.csv)\n",
        "\n",
        "Utility function: sendEmail(message: str) that just prints the message"
      ]
    },
    {
      "cell_type": "markdown",
      "metadata": {
        "id": "0007df84"
      },
      "source": [
        "\n",
        "**Why use `Dict[str, Any]`**\n",
        "\n",
        "Use `Dict[str, Any]` from the `typing` module to annotate parameters like `book_data`. This clarifies that:\n",
        "\n",
        "- The argument must be a dictionary with string keys and values of any type.\n",
        "- It improves code readability, making data types explicit to developers and tools.\n",
        "\n",
        "This is especially useful when passing structured data (from JSON or CSV conversions) into classes like `Book`, where each record is handled as a dictionary.\n"
      ]
    },
    {
      "cell_type": "markdown",
      "metadata": {
        "id": "k4IJzXyHyCzJ"
      },
      "source": [
        "# **Task 1** CSV to JSON Conversion and Borrowing Books\n",
        "\n",
        "This section focuses on setting up the library system by converting provided CSV files (books, bookloans, and members) into JSON format for easier processing. It also introduces the `scan()` method in the `Book` and `Member` classes to simulate barcode scanning and provides the functionality for members to borrow books, updating the JSON files accordingly.\n"
      ]
    },
    {
      "cell_type": "markdown",
      "metadata": {
        "id": "l00v9cs8Fkf0"
      },
      "source": [
        "### Section 1: CSV to JSON Conversion Overview\n",
        "\n",
        "This section covers the conversion of the provided CSV files (`books_2024.csv`, `bookloans_2024.csv`, and `members_2024.csv`) into JSON format files.\n",
        "\n",
        "The conversion is necessary to allow easier access and updating of data throughout the library management system.\n",
        "\n",
        "Each CSV file is read using `csv.DictReader` and saved as a JSON file using the `json.dump()` method, ensuring proper formatting and storage. This fulfills the first requirement of Task 1 for converting the given data sources.\n",
        "\n"
      ]
    },
    {
      "cell_type": "code",
      "source": [
        "def csv_to_json(csv_filepath: str, json_filepath: str) -> None:\n",
        "    \"\"\"\n",
        "    Converts a CSV file into a JSON file.\n",
        "\n",
        "    Preconditions:\n",
        "    - csv_filepath: Path to a CSV file that exists.\n",
        "    - json_filepath: Path where the JSON file will be saved.\n",
        "\n",
        "    Postconditions:\n",
        "    - A JSON file will be created with the content of the CSV file.\n",
        "    \"\"\"\n",
        "\n",
        "    data = []\n",
        "\n",
        "    with open(csv_filepath, mode='r', encoding='utf-8-sig') as csv_file:\n",
        "        csv_reader = csv.DictReader(csv_file)\n",
        "        for row in csv_reader:\n",
        "            data.append(row)\n",
        "\n",
        "    with open(json_filepath, mode='w', encoding='utf-8') as json_file:\n",
        "        json.dump(data, json_file, indent=4)\n",
        "\n",
        "    print(f\"Successfully converted {csv_filepath} to {json_filepath}\")\n",
        "\n",
        "# Convert CSV files to JSON\n",
        "csv_to_json(\"books_2024.csv\", \"books_2024.json\")\n",
        "csv_to_json(\"bookloans_2024.csv\", \"bookloans_2024.json\")\n",
        "csv_to_json(\"members_2024.csv\", \"members_2024.json\")\n"
      ],
      "metadata": {
        "colab": {
          "base_uri": "https://localhost:8080/"
        },
        "id": "yGspRdAnmpnc",
        "outputId": "51239fe3-d60e-4314-c615-ef06cd75c8ee"
      },
      "execution_count": 5,
      "outputs": [
        {
          "output_type": "stream",
          "name": "stdout",
          "text": [
            "Successfully converted books_2024.csv to books_2024.json\n",
            "Successfully converted bookloans_2024.csv to bookloans_2024.json\n",
            "Successfully converted members_2024.csv to members_2024.json\n"
          ]
        }
      ]
    },
    {
      "cell_type": "markdown",
      "source": [
        "### Design Considerations for csv_to_json() Function\n",
        "\n",
        "\n",
        "In **Task 1**, a `csv_to_json()` function that reads structured CSV data (books, loans, members) and converts it into JSON format was implemented.\n",
        "\n",
        "This approach supports:\n",
        "- **Reusability**: The same function works for different CSV files (books, members, loans).\n",
        "- **Maintainability**: JSON is more flexible for structured queries and updates (e.g., modifying a specific field).\n",
        "- **Extensibility**: Future enhancements like validation or schema enforcement can be added inside the same function.\n",
        "- **Separation of Concerns**: Conversion logic is kept modular and isolated from other operations.\n",
        "\n",
        "This design ensures that any updates to CSV formatting or logic will only require minimal changes to a single function.\n"
      ],
      "metadata": {
        "id": "Uw7tu5R96ma7"
      }
    },
    {
      "cell_type": "markdown",
      "metadata": {
        "id": "VBctw8Lt9S28"
      },
      "source": [
        "### Object-Oriented Design in Task 1\n",
        "\n",
        "This task uses object-oriented programming to enhance modularity and maintainability.\n",
        "\n",
        "- `Book` and `Member` are custom classes that encapsulate library items' and users' properties and behaviours.\n",
        "- The `scan()` method in both classes simulates barcode scanning by returning the unique identifier of a book or member.\n",
        "- Using classes allows easy expansion of attributes and behaviours (e.g., we could later add methods like `reserve()` or `return()` to `Book`).\n",
        "- This design separates data and operations, helping align with good design patterns for extensibility."
      ]
    },
    {
      "cell_type": "code",
      "execution_count": 6,
      "metadata": {
        "id": "ptJ2-QlaFjdv"
      },
      "outputs": [],
      "source": [
        "def csv_to_json(csv_path, json_path):\n",
        "    with open(csv_path, mode='r', encoding='utf-8-sig') as csv_file:\n",
        "        reader = csv.DictReader(csv_file)\n",
        "        data = list(reader)\n",
        "\n",
        "    with open(json_path, 'w') as json_file:\n",
        "        json.dump(data, json_file, indent=4)\n"
      ]
    },
    {
      "cell_type": "markdown",
      "metadata": {
        "id": "LyaXuvHnFrhZ"
      },
      "source": [
        "Call this function for all:\n",
        "\n",
        "books_2024.csv → books_2024.json\n",
        "\n",
        "bookloans_2024.csv → bookloans_2024.json\n",
        "\n",
        "members_2024.csv → members_2024.json\n",
        "\n"
      ]
    },
    {
      "cell_type": "markdown",
      "metadata": {
        "id": "vDtSKt5kFx0c"
      },
      "source": [
        "## Section 2: Defining Book and Member Classes\n",
        "\n",
        "The Book and Member classes are created to manage the core objects of the system. The Book class provides methods such as scan(), borrow(), and return_book() to support borrowing and returning functionality while updating JSON records. The Member class includes a scan() method to simulate the identification of a library member by card. These classes are necessary to encapsulate data and actions, supporting a modular and extensible design. The methods rely on reading from and writing to JSON files to maintain the current state of loans and memberships."
      ]
    },
    {
      "cell_type": "markdown",
      "metadata": {
        "id": "usEe8cc0F1xX"
      },
      "source": [
        "Book Class"
      ]
    },
    {
      "cell_type": "code",
      "source": [
        "class Book:\n",
        "    def __init__(self, book_data: Dict[str, Any]):\n",
        "        self.data = book_data\n",
        "\n",
        "    def scan(self):  # Indented to be part of the Book class\n",
        "        \"\"\"\n",
        "        Simulates scanning the book's barcode.\n",
        "\n",
        "        Preconditions:\n",
        "        - self.data must be a dictionary containing a 'Number' key.\n",
        "\n",
        "        Postconditions:\n",
        "        - Returns the book's ID (as a string).\n",
        "\n",
        "        Returns:\n",
        "            str: The book's ID from the data dictionary.\n",
        "        \"\"\"\n",
        "        return self.data.get('Number')\n",
        "\n",
        "    def borrow(self, member_id: str, start_date: str, end_date: str, json_path=\"bookloans_2024.json\"): # Indented to be part of the Book class\n",
        "        \"\"\"\n",
        "        Allows a member to borrow this book.\n",
        "\n",
        "        Preconditions:\n",
        "        - book must be available\n",
        "        - member_id, start_date, and end_date must be valid strings\n",
        "\n",
        "        Postconditions:\n",
        "        - loan record is added to the JSON\n",
        "        - a simulated email is printed\n",
        "        \"\"\"\n",
        "        with open(json_path) as f:\n",
        "            loans = json.load(f)\n",
        "\n",
        "        new_loan = {\n",
        "            \"BookNumber\": self.data[\"Number\"],\n",
        "            \"MemberID\": member_id,\n",
        "            \"StartDate\": start_date,\n",
        "            \"EndDate\": end_date\n",
        "        }\n",
        "\n",
        "        loans.append(new_loan)\n",
        "\n",
        "        with open(json_path, \"w\") as f:\n",
        "            json.dump(loans, f, indent=4)\n",
        "\n",
        "        sendEmail(f\"Book {self.data['Number']} has been borrowed by member {member_id} from {start_date} to {end_date}.\")\n",
        "\n",
        "    def return_book(self, member_id: str, return_date: str, json_path=\"bookloans_2024.json\"): # Indented to be part of the Book class\n",
        "        \"\"\"\n",
        "        Allows a member to return this book and checks for lateness.\n",
        "\n",
        "        Preconditions:\n",
        "        - book must have been borrowed\n",
        "        - return_date must be valid\n",
        "\n",
        "        Postconditions:\n",
        "        - book is marked as returned\n",
        "        - late fine is computed and a notification is sent if needed\n",
        "        \"\"\"\n",
        "        with open(json_path, \"r\") as f:\n",
        "            loans = json.load(f)\n",
        "\n",
        "        updated_loans = []\n",
        "        for loan in loans:\n",
        "            if loan[\"BookNumber\"] == self.data[\"Number\"] and loan[\"MemberID\"] == member_id:\n",
        "                end_date = datetime.strptime(loan[\"EndDate\"], \"%Y-%m-%d\")\n",
        "                return_dt = datetime.strptime(return_date, \"%Y-%m-%d\")\n",
        "                late_days = (return_dt - end_date).days\n",
        "                if late_days > 0:\n",
        "                    fine = f\"£{late_days}\"\n",
        "                    sendEmail(f\"Book {self.data['Number']} returned late by {late_days} days. Fine due: {fine}.\")\n",
        "                else:\n",
        "                    sendEmail(f\"Book {self.data['Number']} returned on time by member {member_id}.\")\n",
        "            else:\n",
        "                updated_loans.append(loan)\n",
        "\n",
        "        with open(json_path, \"w\") as f:\n",
        "            json.dump(updated_loans, f, indent=4)"
      ],
      "metadata": {
        "id": "2uhDfhE80Mg8"
      },
      "execution_count": 7,
      "outputs": []
    },
    {
      "cell_type": "markdown",
      "metadata": {
        "id": "dEaAOnOBBqub"
      },
      "source": [
        "Member Class"
      ]
    },
    {
      "cell_type": "code",
      "execution_count": 8,
      "metadata": {
        "id": "8qHxo5c-Bsmu"
      },
      "outputs": [],
      "source": [
        "class Member:\n",
        "    \"\"\"\n",
        "    Represents a library member for membership card issuance.\n",
        "\n",
        "    Attributes:\n",
        "        member_id (str): Unique ID.\n",
        "        first_name (str): First name.\n",
        "        last_name (str): Last name.\n",
        "        email (str): Email address.\n",
        "        card_history (list): Previously issued card numbers.\n",
        "    \"\"\"\n",
        "    def __init__(self, member_data: Dict[str, Any]):\n",
        "        self.data = member_data\n",
        "\n",
        "def scan(self) -> str:\n",
        "    \"\"\"\n",
        "    Simulates scanning a membership card to retrieve the member ID.\n",
        "\n",
        "    Preconditions:\n",
        "    - The member object must have an initialized 'member_id' attribute.\n",
        "\n",
        "    Postconditions:\n",
        "    - Returns the member's unique ID.\n",
        "\n",
        "    Returns:\n",
        "        str: The ID of the member.\n",
        "    \"\"\"\n",
        "    return self.member_id\n",
        "\n"
      ]
    },
    {
      "cell_type": "markdown",
      "metadata": {
        "id": "vkpolS-mBvuy"
      },
      "source": [
        "## Section 3: Borrow a Book (Record new book loan)\n",
        "The borrow() method of the Book class is used in this section to allow a member to borrow a book. The method constructs a loan record using the member's ID and the loan period, appending it to the loan JSON file. Borrowing functionality is essential to control book availability and track lending activity. A simulated email notification is triggered upon a successful loan, using the sendEmail() method to demonstrate real-world communication in a simplified form."
      ]
    },
    {
      "cell_type": "code",
      "source": [
        "def sendEmail(message: str):\n",
        "    print(f\"EMAIL SENT: {message}\")"
      ],
      "metadata": {
        "id": "gMhE3_8K7le1"
      },
      "execution_count": 21,
      "outputs": []
    },
    {
      "cell_type": "code",
      "execution_count": 19,
      "metadata": {
        "id": "PgMHkywhixon"
      },
      "outputs": [],
      "source": [
        "# Section 3: Borrow a Book (Task 1 Continued)\n",
        "\n",
        "def borrow_book(member_id: str, book_number: str, start_date: str, end_date: str):\n",
        "    \"\"\"\n",
        "    Borrow a book by adding a loan record to the JSON file.\n",
        "    \"\"\"\n",
        "    # Open the JSON file that stores current loans\n",
        "    with open(\"bookloans_2024.json\") as f:\n",
        "        loans = json.load(f)\n",
        "\n",
        "    # Making a new dictionary for this borrowing event\n",
        "    new_loan = {\n",
        "        \"BookNumber\": book_number,\n",
        "        \"MemberID\": member_id,\n",
        "        \"StartDate\": start_date,\n",
        "        \"EndDate\": end_date\n",
        "    }\n",
        "\n",
        "    # Add the new loan to the list\n",
        "    loans.append(new_loan)\n",
        "\n",
        "    # Save the updated list back to the JSON file\n",
        "    with open(\"bookloans_2024.json\", \"w\") as f:\n",
        "        json.dump(loans, f, indent=4)\n",
        "\n",
        "    # Send an email saying the book is borrowed. 'sendEmail()' method to demonstrate real-world communication in a simplified form.\n",
        "    sendEmail(f\"Book {book_number} has been borrowed by member {member_id} from {start_date} to {end_date}.\")\n"
      ]
    },
    {
      "cell_type": "code",
      "source": [
        "# Dummy Data Testing for Borrowing a Book\n",
        "borrow_book(member_id=\"5\", book_number=\"2\", start_date=\"2024-04-01\", end_date=\"2024-04-20\")"
      ],
      "metadata": {
        "colab": {
          "base_uri": "https://localhost:8080/"
        },
        "id": "0FqOq1kFDemO",
        "outputId": "c36891c9-48ac-4b4d-fbee-cf4cafbc60f6"
      },
      "execution_count": 22,
      "outputs": [
        {
          "output_type": "stream",
          "name": "stdout",
          "text": [
            "EMAIL SENT: Book 2 has been borrowed by member 5 from 2024-04-01 to 2024-04-20.\n"
          ]
        }
      ]
    },
    {
      "cell_type": "markdown",
      "metadata": {
        "id": "nX3xpn47yo3F"
      },
      "source": [
        "# **Task 2** Returning books & late fee notifications\n",
        "\n",
        "This section implements the functionality for returning borrowed books. When a book is returned, the loan record in the JSON file is updated accordingly, and any late returns are prepared for fine notification processing. Dummy data is used to demonstrate the return process and JSON update.\n"
      ]
    },
    {
      "cell_type": "markdown",
      "metadata": {
        "id": "YAADb8AvBzd1"
      },
      "source": [
        "## Section 4: Return a Book\n",
        "The return_book() method from the Book class is used here to process book returns. This method searches the loan records, compares the return date against the expected end date, and identifies any lateness. If the return is overdue, a fine is calculated and a notification is sent. The JSON file is updated to remove the completed loan. This method ensures that book circulation records are kept accurate and supports the library's need to manage fines."
      ]
    },
    {
      "cell_type": "markdown",
      "metadata": {
        "id": "yblc6vewD_6t"
      },
      "source": [
        "### Object-Oriented Design in Task 2\n",
        "\n",
        "This task handles book returns using procedural code, but the logic is suitable for encapsulation in a class such as `Library`.\n",
        "\n",
        "- A `Library` class would manage the internal state of books, members, and transactions.\n",
        "- The `return_book()` function simulates the behaviour of returning a book and can be easily refactored into a method of such a class.\n",
        "- Notifications for lateness and reservations represent polymorphic behaviour. In future, different notification types could be handled by different classes.\n",
        "- The updated loan list written back to `bookloans_2024.json` demonstrates successful JSON state management.\n",
        "\n"
      ]
    },
    {
      "cell_type": "code",
      "source": [
        "from datetime import datetime, timedelta\n",
        "\n",
        "def sendEmail(message: str):\n",
        "    \"\"\"\n",
        "    Simulates sending an email notification by printing the message.\n",
        "    \"\"\"\n",
        "    print(f\"EMAIL SENT: {message}\")\n",
        "\n",
        "def return_book(loans, book_number: str, member_id: str, return_date: str):\n",
        "    \"\"\"\n",
        "    Processes the return of a book by a member and updates the loan records.\n",
        "\n",
        "    Preconditions:\n",
        "    - loans must be a list of lists, where each inner list has [Book Number, Member ID, Date_of_Loan, Date_of_Return].\n",
        "    - Each Book Number and Member ID must be represented as strings or integers.\n",
        "    - return_date must be a string formatted as 'YYYY-MM-DD'.\n",
        "    - The Book Number and Member ID provided must exist together in one of the loan records.\n",
        "\n",
        "    Postconditions:\n",
        "    - If a matching loan is found, it is removed from the loans list.\n",
        "    - If the book is returned late (after the Date_of_Return), a fine is calculated (£1 per day late) and a simulated email is sent.\n",
        "    - The function returns the updated loans list.\n",
        "    - If no matching loan is found, the original loans list is returned unchanged.\n",
        "    \"\"\"\n",
        "\n",
        "    updated_loans = []\n",
        "    returned = False\n",
        "\n",
        "    for loan in loans:\n",
        "        if str(loan[0]) == book_number and str(loan[1]) == member_id:\n",
        "            # Convert Excel day number to real due date\n",
        "            due_date_excel = loan[3]\n",
        "            due_date = datetime(1899, 12, 30) + timedelta(days=due_date_excel)\n",
        "            ret_date = datetime.strptime(return_date, \"%Y-%m-%d\")\n",
        "            late_days = (ret_date - due_date).days\n",
        "\n",
        "            if late_days > 0:\n",
        "                fine = late_days\n",
        "                sendEmail(f\"Book {book_number} returned {late_days} days late. Fine = £{fine}.\")\n",
        "            else:\n",
        "                sendEmail(f\"Book {book_number} returned on time by member {member_id}.\")\n",
        "\n",
        "            returned = True\n",
        "\n",
        "        else:\n",
        "            updated_loans.append(loan)\n",
        "\n",
        "    if not returned:\n",
        "        print(f\"No matching active loan found for Book {book_number} and Member {member_id}.\")\n",
        "\n",
        "    if returned:\n",
        "        print(f\"Book {book_number} successfully returned by member {member_id}.\")\n",
        "\n",
        "    return updated_loans\n"
      ],
      "metadata": {
        "id": "1siB7UngKwAK"
      },
      "execution_count": 62,
      "outputs": []
    },
    {
      "cell_type": "code",
      "source": [
        "# Dummy Data for Testing\n",
        "\n",
        "# Each loan: [Book Number, Member ID, Date_of_Loan (Excel days), Date_of_Return (Excel days)]\n",
        "dummy_loans = [\n",
        "    [3, 12, 45449, 45458],  # Book 3, Member 12, Loaned on 45449 (2024-05-10), Due on 45458 (2024-05-19)\n",
        "    [4, 18, 45450, 45459]   # Another loan for testing (optional)\n",
        "]\n",
        "\n",
        "# Dummy test values matching the first loan\n",
        "dummy_book_number = \"3\"\n",
        "dummy_member_id = \"12\"\n",
        "dummy_return_date = \"2024-05-21\"  # Returned late by 2 days\n",
        "\n",
        "# Run the return_book function with dummy data\n",
        "updated_loans = return_book(\n",
        "    loans=dummy_loans,\n",
        "    book_number=dummy_book_number,\n",
        "    member_id=dummy_member_id,\n",
        "    return_date=dummy_return_date\n",
        ")\n",
        "\n",
        "# Print updated loans to confirm removal\n",
        "print(\"\\nUpdated Loans After Return:\")\n",
        "print(updated_loans)\n"
      ],
      "metadata": {
        "colab": {
          "base_uri": "https://localhost:8080/"
        },
        "id": "44--UMqvK3Ja",
        "outputId": "6142b004-7b67-4336-c3ff-59fc6d9f26c0"
      },
      "execution_count": 63,
      "outputs": [
        {
          "output_type": "stream",
          "name": "stdout",
          "text": [
            "EMAIL SENT: Book 3 returned on time by member 12.\n",
            "Book 3 successfully returned by member 12.\n",
            "\n",
            "Updated Loans After Return:\n",
            "[[4, 18, 45450, 45459]]\n"
          ]
        }
      ]
    },
    {
      "cell_type": "markdown",
      "metadata": {
        "id": "zclrelB7zLbH"
      },
      "source": [
        "# **Task 3** Membership management & card issuance\n",
        "\n",
        "This section handles new membership applications and the issuance of membership cards. Membership card numbers follow a structured format (MemberID-CardCount) and handle reissuance when cards are lost. Dummy members are created to demonstrate the card issuance process with proper updates to the JSON membership records.\n"
      ]
    },
    {
      "cell_type": "markdown",
      "metadata": {
        "id": "1edfe263"
      },
      "source": [
        "\n",
        "## Section 5: Membership Application and Card Issuance System\n",
        "\n",
        "The Member class is extended in this section to handle the issuance and reissuance of membership cards. A card number is generated based on the member's ID and a counter, following the required format (e.g., \"123-1\", \"123-2\"). Reissue the cards if needed (reset after 99). JSON updates ensure that the current state of card issuance is maintained. This code is important to ensure membership records are unique and traceable, avoiding duplication and confusion in a growing library membership base.\n"
      ]
    },
    {
      "cell_type": "markdown",
      "metadata": {
        "id": "V-soSGbIJf1v"
      },
      "source": [
        "### Object-Oriented Design in Task 3\n",
        "\n",
        "To build on the `Member` class defined in **Task 1** to support a reusable, extensible model for managing library membership logic. This demonstrates the benefits of OOP:\n",
        "\n",
        "- **Encapsulation**: The card issuance logic is contained within the `Member` class. This keeps related data and functionality together.\n",
        "- **Reusability**: We use the same `Member` class defined earlier, avoiding code duplication.\n",
        "- **Extensibility**: Features like tracking card history or validating membership limits can be added easily as methods of this class.\n",
        "\n",
        "By refactoring the procedural `issue_membership_card()` function into the class, we meet the requirement for clear OOP design while maintaining consistent logic."
      ]
    },
    {
      "cell_type": "code",
      "execution_count": 64,
      "metadata": {
        "id": "107da0ac"
      },
      "outputs": [],
      "source": [
        "class Member:\n",
        "    def __init__(self, member_id, first_name, last_name, email, card_number):\n",
        "        self.member_id = str(member_id)\n",
        "        self.first_name = first_name\n",
        "        self.last_name = last_name\n",
        "        self.email = email\n",
        "        self.card_history = [card_number] if card_number != \"0\" else []\n",
        "\n",
        "    def issue_new_card(self):\n",
        "        \"\"\"\n",
        "        Issues or reissues a membership card with format ID-count.\n",
        "        Format: ID-count (e.g., 45-3)\n",
        "\n",
        "        Preconditions:\n",
        "        - The member must be initialized with a unique member_id and current card status.\n",
        "\n",
        "        Postconditions:\n",
        "        - Updates the member's card number in 'members_2024.json'.\n",
        "        - Card number resets to ID-1 after reaching ID-99.\n",
        "\n",
        "        Returns:\n",
        "            str: The newly issued card number.\n",
        "        \"\"\"\n",
        "        count = 1 if not self.card_history else int(self.card_history[-1].split(\"-\")[-1]) + 1\n",
        "        if count > 99:\n",
        "            count = 1\n",
        "        new_card_number = f\"{self.member_id}-{count}\"\n",
        "        self.card_history.append(new_card_number)\n",
        "        self.update_member_json(new_card_number)\n",
        "        print(f\"Card issued: {new_card_number}\")\n",
        "        return new_card_number\n",
        "\n",
        "    def update_member_json(self, new_card_number):\n",
        "        path = \"members_2024.json\"\n",
        "        with open(path, 'r', encoding='utf-8-sig') as f:\n",
        "            members = json.load(f)\n",
        "\n",
        "        for m in members:\n",
        "            if str(m['ID']) == self.member_id:\n",
        "                m['Card Number'] = new_card_number\n",
        "\n",
        "        with open(path, 'w') as f:\n",
        "            json.dump(members, f, indent=4)\n"
      ]
    },
    {
      "cell_type": "markdown",
      "source": [
        "### Section 6: New Membership Application\n",
        "\n",
        "This section introduces a new function called reserve_book() which allows members to reserve books that are currently unavailable for loan. The function checks the existing loan records to determine if the book is on loan. If so, it adds the reservation to a new JSON file called reserved.json. If the book is available, a notification is sent to inform the member that the book can be borrowed immediately. This functionality helps ensure fair access to popular titles and keeps reservation records separate from loan records.\n",
        "\n",
        "This fulfills the requirement that \"members of the public can apply for membership and be assigned unique IDs.\"\n"
      ],
      "metadata": {
        "id": "8gV-X4DzmHDS"
      }
    },
    {
      "cell_type": "code",
      "source": [
        "def apply_for_new_membership(members_data, first_name, last_name, gender, email):\n",
        "    \"\"\"\n",
        "    Apply for a new membership.\n",
        "\n",
        "    Preconditions:\n",
        "    - members_data: list of existing member dictionaries.\n",
        "    - first_name, last_name, gender, email: string fields must be provided for the new member.\n",
        "\n",
        "    Postconditions:\n",
        "    - A new member will be added to members_data with a unique ID.\n",
        "    - The member will receive a card number in 'ID-1' format.\n",
        "    - The JSON file will be updated to include the new member.\n",
        "    \"\"\"\n",
        "\n",
        "    # Find the current highest ID\n",
        "    highest_id = max(int(member['ID']) for member in members_data)\n",
        "\n",
        "    # Create new ID\n",
        "    new_id = highest_id +1\n",
        "\n",
        "    # Create card number as new_id-1\n",
        "    card_number = f\"{new_id}-1\"\n",
        "\n",
        "    # Create the new member dictionary\n",
        "    new_member = {\n",
        "        'ID': str(new_id),\n",
        "        'First Name': first_name,\n",
        "        'Last Name': last_name,\n",
        "        'Gender': gender,\n",
        "        'Email': email,\n",
        "        'Card Number': card_number\n",
        "    }\n",
        "\n",
        "    # Append the new member to the list\n",
        "    members_data.append(new_member)\n",
        "\n",
        "    # Save updated list to JSON\n",
        "    with open('members_2024.json', 'w', encoding='utf-8') as f:\n",
        "        json.dump(members_data, f, indent=4)\n",
        "\n",
        "    print(f\"New member added: {first_name} {last_name}, ID: {new_id}, Card: {card_number}\")\n"
      ],
      "metadata": {
        "id": "hymf-hxlmMlQ"
      },
      "execution_count": 73,
      "outputs": []
    },
    {
      "cell_type": "code",
      "source": [
        "# Dummy Test for Task 3: New Membership Issuance\n",
        "\n",
        "print(\"\\n--- Dummy Test: New Member Application ---\")\n",
        "\n",
        "# Adding a brand-new dummy member\n",
        "new_member = {\n",
        "    \"ID\": \"201\",\n",
        "    \"First Name\": \"Test\",\n",
        "    \"Last Name\": \"User\",\n",
        "    \"Gender\": \"Other\",\n",
        "    \"Email\": \"testuser@example.com\",\n",
        "    \"Card Number\": \"1\"\n",
        "}\n",
        "\n",
        "try:\n",
        "    with open('members_2024.json', 'r+') as f:\n",
        "        members = json.load(f)\n",
        "        members.append(new_member)\n",
        "        f.seek(0)\n",
        "        json.dump(members, f, indent=4)\n",
        "        f.truncate()\n",
        "    print(\"Dummy member successfully added!\")\n",
        "except Exception as e:\n",
        "    print(f\"Error adding dummy member: {e}\")\n",
        "dummy_member_obj.issue_new_card()\n"
      ],
      "metadata": {
        "colab": {
          "base_uri": "https://localhost:8080/",
          "height": 107
        },
        "id": "rZrqyz7HmfI0",
        "outputId": "ce96c593-f4c3-42eb-d1ed-5c733fb97660"
      },
      "execution_count": 72,
      "outputs": [
        {
          "output_type": "stream",
          "name": "stdout",
          "text": [
            "\n",
            "--- Dummy Test: New Member Application ---\n",
            "Dummy member successfully added!\n",
            "Card issued: 201-5\n"
          ]
        },
        {
          "output_type": "execute_result",
          "data": {
            "text/plain": [
              "'201-5'"
            ],
            "application/vnd.google.colaboratory.intrinsic+json": {
              "type": "string"
            }
          },
          "metadata": {},
          "execution_count": 72
        }
      ]
    },
    {
      "cell_type": "markdown",
      "metadata": {
        "id": "97vyFow7zV4t"
      },
      "source": [
        "# **Task 4** Book Reservations\n",
        "\n",
        "This section implements book reservation functionality, allowing members to reserve books that are currently unavailable. If the reserved book becomes available later, the system will trigger a notification. Dummy reservations are created to demonstrate this functionality using valid member and book IDs.\n"
      ]
    },
    {
      "cell_type": "markdown",
      "metadata": {
        "id": "mJNlHEIwUKCs"
      },
      "source": [
        "##Section 7: Reserving a Book\n",
        "\n",
        "The sendEmail() method is used here to simulate two types of notifications: informing members when a reserved book becomes available, and alerting members to late returns and associated fines. The logic for checking availability and calculating fines is embedded within the reservation and return processes. This part demonstrates how notifications can be flexibly triggered based on system events, making the library service responsive to user needs.\n",
        "\n",
        "### Object-Oriented Design in Task 4\n",
        "\n",
        "Introducing a `Reservation` class to handle book reservation functionality. This shift supports:\n",
        "\n",
        "- **Encapsulation**: All reservation logic is bundled within a dedicated class.\n",
        "- **Instance Usage**: Each reservation is represented as an instance of the `Reservation` class.\n",
        "- **Extensibility & Polymorphism**: Future changes (e.g., supporting staff-only reservations or auto-cancellation policies) can be easily implemented using method overrides or extensions.\n",
        "\n",
        "The design builds upon the existing object-oriented approach seen in previous tasks.\n"
      ]
    },
    {
      "cell_type": "code",
      "execution_count": 91,
      "metadata": {
        "id": "ec5TPnckUVP-"
      },
      "outputs": [],
      "source": [
        "class Reservation:\n",
        "    def __init__(self, book_number: str, member_id: str):\n",
        "        self.book_number = book_number\n",
        "        self.member_id = member_id\n",
        "\n",
        "    def reserve(self):\n",
        "        \"\"\"\n",
        "        Reserves a book by adding an entry to reserved.json.\n",
        "\n",
        "        Preconditions:\n",
        "        - Book must currently be on loan (checked outside this method).\n",
        "\n",
        "        Postconditions:\n",
        "        - The reservation is saved to reserved.json.\n",
        "        - A confirmation email is simulated.\n",
        "\n",
        "        Returns:\n",
        "            None\n",
        "        \"\"\"\n",
        "        try:\n",
        "            with open(\"reserved.json\", \"r\", encoding=\"utf-8\") as f:\n",
        "                reservations = json.load(f)\n",
        "        except FileNotFoundError:\n",
        "            reservations = []\n",
        "\n",
        "        reservations.append({\n",
        "            \"BookNumber\": self.book_number,\n",
        "            \"MemberID\": self.member_id\n",
        "        })\n",
        "\n",
        "        with open(\"reserved.json\", \"w\", encoding=\"utf-8\") as f:\n",
        "            json.dump(reservations, f, indent=4)\n",
        "\n",
        "        sendEmail(f\"Book {self.book_number} has been reserved by member {self.member_id}.\")\n"
      ]
    },
    {
      "cell_type": "markdown",
      "source": [
        "### Demonstration of Book Reservation Outcomes\n",
        "\n",
        "The following examples show two reservation scenarios:\n",
        "\n",
        "1. **Reserving a book that is available (should succeed).**\n",
        "2. **Reserving a book that is currently on loan (should fail or print an appropriate message).**\n"
      ],
      "metadata": {
        "id": "6ZDSjTmK7XAa"
      }
    },
    {
      "cell_type": "code",
      "source": [
        "# 1. Attempt to reserve a book that's available:\n",
        "print(\"\\n--- Dummy Test: Trying to Reserve an Available Book ---\")\n",
        "# Simulate logic manually\n",
        "available_books = [\"5\", \"7\"]  # Example book numbers available on shelf\n",
        "\n",
        "dummy_member_id = \"78\"\n",
        "dummy_book_id = \"5\"  # Assume available\n",
        "\n",
        "if dummy_book_id in available_books:\n",
        "    print(f\"Book {dummy_book_id} is available on the shelf. No need to reserve.\")\n",
        "else:\n",
        "    reserve_book(member_id=dummy_member_id, book_number=dummy_book_id)\n"
      ],
      "metadata": {
        "colab": {
          "base_uri": "https://localhost:8080/"
        },
        "id": "KYrs115yRZNN",
        "outputId": "b430a390-53a8-447d-c621-48a3b0820dac"
      },
      "execution_count": 94,
      "outputs": [
        {
          "output_type": "stream",
          "name": "stdout",
          "text": [
            "\n",
            "--- Dummy Test: Trying to Reserve an Available Book ---\n",
            "Book 5 is available on the shelf. No need to reserve.\n"
          ]
        }
      ]
    },
    {
      "cell_type": "code",
      "source": [
        "# 2. Reserve a book that's on loan:\n",
        "print(\"\\n--- Dummy Test: Reserving a Loaned Book ---\")\n",
        "reserve_book(member_id=\"78\", book_number=\"2\")  # Assume book 2 is on loan\n"
      ],
      "metadata": {
        "colab": {
          "base_uri": "https://localhost:8080/"
        },
        "id": "_OFzpZ6pPt7a",
        "outputId": "85f3b8c7-1d78-4c72-83af-322046da833c"
      },
      "execution_count": 92,
      "outputs": [
        {
          "output_type": "stream",
          "name": "stdout",
          "text": [
            "\n",
            "--- Dummy Test: Reserving a Loaned Book ---\n",
            "EMAIL SENT: Book 2 has been reserved by member 78.\n"
          ]
        }
      ]
    },
    {
      "cell_type": "code",
      "source": [
        "# Dummy Test for Task 4: Reserve a Book\n",
        "\n",
        "print(\"\\n--- Dummy Test: Reserving a Book ---\")\n",
        "\n",
        "dummy_member_id = \"78\"  # Real member from loans\n",
        "dummy_book_id = \"2\"     # 'Data Smart'\n",
        "\n",
        "reservation_entry = {\n",
        "    \"BookNumber\": dummy_book_id,\n",
        "    \"MemberID\": dummy_member_id,\n",
        "    \"ReservedDate\": \"2025-04-26\"\n",
        "}\n",
        "\n",
        "try:\n",
        "    with open('reserved.json', 'r+') as f:\n",
        "        try:\n",
        "            reservations = json.load(f)\n",
        "        except json.JSONDecodeError:\n",
        "            reservations = []\n",
        "        reservations.append(reservation_entry)\n",
        "        f.seek(0)\n",
        "        json.dump(reservations, f, indent=4)\n",
        "        f.truncate()\n",
        "    print(f\"Book {dummy_book_id} reserved successfully by Member {dummy_member_id}.\")\n",
        "except Exception as e:\n",
        "    print(f\"Error making reservation: {e}\")\n"
      ],
      "metadata": {
        "colab": {
          "base_uri": "https://localhost:8080/"
        },
        "id": "_t0zg9Dr7Yn_",
        "outputId": "07ea7ea5-2c61-4e45-a34b-da842cfc2127"
      },
      "execution_count": 95,
      "outputs": [
        {
          "output_type": "stream",
          "name": "stdout",
          "text": [
            "\n",
            "--- Dummy Test: Reserving a Book ---\n",
            "Book 2 reserved successfully by Member 78.\n"
          ]
        }
      ]
    },
    {
      "cell_type": "markdown",
      "metadata": {
        "id": "aIcGQQD1zgso"
      },
      "source": [
        "# **Task 5** Notification System Extensibility\n",
        "\n",
        "This task develops a notification system for two major events within the library management system: notifying members when a reserved book becomes available, and notifying members when a returned book is overdue and a fine is due. The task also requires a reflection on the flexibility and future extensibility of the notification system. All functionality is demonstrated using dummy data, and clear modular design principles are applied throughout.\n",
        "\n",
        "The required deliverables for Task 5 include implementing working notifications for reserved books and late returns, simulating these notifications through simple methods, and discussing how the design can be improved using appropriate design patterns."
      ]
    },
    {
      "cell_type": "markdown",
      "metadata": {
        "id": "sBZLqD3iCHkD"
      },
      "source": [
        "### Section 8: Notification of Available Reserved Book\n",
        "\n",
        "This section implements the practical notification system required by Task 5. Notifications are generated through a NotificationSystem class which provides methods for sending basic simulated emails. Members are notified when a reserved book becomes available and when they are liable for a fine due to a late return. Dummy data is used to demonstrate these scenarios, and the handling of the loan records is conducted through structured JSON file interactions.\n",
        "\n",
        "The NotificationSystem class contains methods including send_email(), which prints a message simulating an email notification; notify_late_return(), which calculates and sends a fine notification if a book is returned late; and notify_reserver(), which notifies a member when a reserved book becomes available for collection.\n",
        "\n",
        "The following code defines the NotificationSystem:"
      ]
    },
    {
      "cell_type": "code",
      "source": [
        "# The helper function\n",
        "def sendEmail(message: str):\n",
        "    print(f\"EMAIL SENT: {message}\")\n",
        "\n",
        "# The NotificationSystem class\n",
        "class NotificationSystem:\n",
        "    \"\"\"\n",
        "    A simple system to simulate sending notifications for library events.\n",
        "    \"\"\"\n",
        "\n",
        "    @staticmethod\n",
        "    def send_email(message: str):\n",
        "        print(f\"EMAIL SENT: {message}\")\n",
        "\n",
        "    @staticmethod\n",
        "    def notify_late_return(book_number: str, days_late: int):\n",
        "        fine = days_late\n",
        "        NotificationSystem.send_email(\n",
        "            f\"Book {book_number} was returned {days_late} days late. Fine = £{fine}.\"\n",
        "        )\n",
        "\n",
        "    @staticmethod\n",
        "    def notify_reserver(book_number: str):\n",
        "        try:\n",
        "            with open(\"reserved.json\", \"r\") as f:\n",
        "                reservations = json.load(f)\n",
        "        except FileNotFoundError:\n",
        "            reservations = []\n",
        "\n",
        "        for reservation in reservations:\n",
        "            if reservation[\"BookNumber\"] == book_number:\n",
        "                member_id = reservation[\"MemberID\"]\n",
        "                NotificationSystem.send_email(\n",
        "                    f\"Reserved book {book_number} is now available for member {member_id}.\"\n",
        "                )"
      ],
      "metadata": {
        "id": "rVUNQxMnXOtQ"
      },
      "execution_count": 101,
      "outputs": []
    },
    {
      "cell_type": "markdown",
      "source": [
        "The return_book method below integrates both notifications. It checks whether a book was returned late, sends a fine notification if necessary, and also checks if the book was previously reserved by another member, notifying them if it has become available."
      ],
      "metadata": {
        "id": "l2sXapwsYkLH"
      }
    },
    {
      "cell_type": "code",
      "source": [
        "def return_book(self, book_id: str, member_id: str, loans_data: dict):\n",
        "    \"\"\"\n",
        "    Handles the return of a book by a member.\n",
        "\n",
        "    Preconditions:\n",
        "    - The book must exist in the loan data.\n",
        "    - The member ID must match the loan record.\n",
        "\n",
        "    Postconditions:\n",
        "    - A late fine is calculated if applicable.\n",
        "    - Notifications are sent for late returns and reserved book availability.\n",
        "    \"\"\"\n",
        "\n",
        "    loan = loans_data.get(str(book_id))\n",
        "\n",
        "    if loan and loan['MemberID'] == member_id:\n",
        "        days_borrowed = loan['DaysBorrowed']\n",
        "\n",
        "        allowed_days = 14  # No fine if returned within 14 days\n",
        "        if days_borrowed > allowed_days:\n",
        "            late_days = days_borrowed - allowed_days\n",
        "            fine = late_days * 1  # £1 fine per day late\n",
        "            NotificationSystem.send_email(\n",
        "                f\"Book {book_id} was returned {late_days} days late. Fine = £{fine}.\"\n",
        "            )\n",
        "        else:\n",
        "            NotificationSystem.send_email(\n",
        "                f\"Book {book_id} returned on time by member {member_id}. No fine applicable.\"\n",
        "            )\n",
        "\n",
        "        NotificationSystem.notify_reserver(book_id)\n",
        "\n",
        "    else:\n",
        "        print(f\"No active loan record found for Book {book_id} and Member {member_id}.\")\n"
      ],
      "metadata": {
        "id": "wxf3RD1Qb4XU"
      },
      "execution_count": 102,
      "outputs": []
    },
    {
      "cell_type": "code",
      "source": [
        "# Dummy loan data structure matching bookloans_2024.json\n",
        "loans_data = [\n",
        "    {\n",
        "    \"BookNumber\": \"3\",\n",
        "    \"MemberID\": \"12\",\n",
        "    \"StartDate\": \"2024-04-01\",\n",
        "    \"EndDate\": \"2024-04-20\"\n",
        "    },\n",
        "    {\n",
        "    \"BookNumber\": \"4\",\n",
        "    \"MemberID\": \"18\",\n",
        "    \"StartDate\": \"2024-04-02\",\n",
        "    \"EndDate\": \"2024-04-15\"\n",
        "    }\n",
        "]\n"
      ],
      "metadata": {
        "id": "YleHidj2cqIb"
      },
      "execution_count": 103,
      "outputs": []
    },
    {
      "cell_type": "code",
      "source": [
        "#Dummy Data Test\n",
        "print(\"\\n--- Dummy Test: Sending Notifications ---\")\n",
        "\n",
        "# Simulate notification for reserved book availability\n",
        "NotificationSystem.notify_reserver(book_number=\"3\")\n",
        "\n",
        "# Simulate notification for late return fine (5 days late)\n",
        "NotificationSystem.notify_late_return(book_number=\"3\", days_late=5)"
      ],
      "metadata": {
        "colab": {
          "base_uri": "https://localhost:8080/"
        },
        "id": "p4hfVXhIMetT",
        "outputId": "b0b34218-b16b-431c-8c05-ea9cdf1fb2a7"
      },
      "execution_count": 104,
      "outputs": [
        {
          "output_type": "stream",
          "name": "stdout",
          "text": [
            "\n",
            "--- Dummy Test: Sending Notifications ---\n",
            "EMAIL SENT: Book 3 was returned 5 days late. Fine = £5.\n"
          ]
        }
      ]
    },
    {
      "cell_type": "markdown",
      "source": [
        "### Section 9: Notification System Extensibility\n",
        "\n",
        "This section reflects on the future extensibility of the notification system developed for Task 5. Although the current implementation utilises a simple static method to simulate sending emails, there are significant opportunities to improve flexibility and scalability through design patterns.\n",
        "\n",
        "One improvement would be the introduction of the Observer Pattern. This would allow the system to define events such as 'Book Returned' or 'Book Reserved' that could trigger multiple types of notifications, such as email, SMS, or app notifications, without altering the existing methods. Different notification handlers would simply subscribe to these events, making the system much more modular and decoupled.\n",
        "\n",
        "Another enhancement would be the application of the Strategy Pattern. This approach would allow the system to dynamically select how a notification is sent, depending on user preferences or system settings. For example, members could choose whether they receive notifications via email, SMS, or through a library mobile application, and the delivery method would be applied without modifying the notification generation logic.\n",
        "\n",
        "These improvements would ensure that the system can accommodate future requirements easily and flexibly. They would also reduce the need for manual changes across the codebase when adding new types of notifications, ultimately making the system more maintainable and scalable.\n",
        "\n"
      ],
      "metadata": {
        "id": "3hT1CSPsLYDg"
      }
    },
    {
      "cell_type": "markdown",
      "metadata": {
        "id": "2cce50f7"
      },
      "source": [
        "\n",
        "## Section 10: Design Reflection\n",
        "\n",
        "This library system has been developed with a strong emphasis on object-oriented programming and modularity, influenced by key concepts from Case Studies 3 and 4. My design approach was guided by personal goals of producing maintainable and scalable software, which led me to implement the primary entities—Book and Member—as Python classes. Each class includes methods such as scan() to simulate real-world interactions, enhancing usability and maintainability.\n",
        "\n",
        "Structured data management using JSON was selected due to its simplicity and compliance with assignment guidelines. I ensured consistent schema usage and proper encoding, particularly for handling special characters within data files such as members_2024.csv.\n",
        "\n",
        "A simple notification mechanism using a sendEmail() function was initially implemented. Inspired by the Observer pattern discussed in course materials, the system is designed for easy extension. Future developments could involve creating a dedicated Notifier class to handle multiple event types (such as book returns, reservations, and membership approvals) and supporting multiple notification channels (e.g., email, SMS, push notifications). Future versions could also integrate SMS gateways or app push services dynamically by applying the Strategy pattern, allowing members to select their preferred notification method without changing the core system logic.\n",
        "\n",
        "Overall, this assignment deepened my understanding of object-oriented design and reinforced the importance of creating adaptable, extensible software suitable for real-world applications.\n",
        "\n",
        "\n",
        "\n"
      ]
    },
    {
      "cell_type": "markdown",
      "source": [
        "- CSV to JSON conversion is shown in Task 1, the 'CSV to JSON Conversion' Section.\n",
        "- JSON file updates are demonstrated in book loans (Task 1), membership applications (Task 3), and reservations (Task 4).\n",
        "- All JSON files (`bookloans_2024.json`, `members_2024.json`, `reserved.json`) are created or updated as per task requirements.\n",
        "- Notifications are simulated through print statements via the NotificationSystem class.\n",
        "- Code is written to allow future extensibility in the notification system as discussed above.\n"
      ],
      "metadata": {
        "id": "jDOuJjSkfhdJ"
      }
    },
    {
      "cell_type": "markdown",
      "metadata": {
        "id": "cx-uuCiACMpb"
      },
      "source": [
        "## Section 11: File Handling Reference\n",
        "\n",
        "The csv_to_json() function, introduced in Section 1, manages the conversion process. All modifications performed during operations such as borrowing, returning, and reserving books are reflected in the JSON files, rather than in the original CSV files. This approach aligns with the assignment instructions, which stipulate that the CSV files should remain immutable.\n",
        "\n"
      ]
    },
    {
      "cell_type": "markdown",
      "metadata": {
        "id": "glopXKPQpcZv"
      },
      "source": [
        "## Section 12: Summary\n",
        "\n",
        "This assignment provided practical experience in developing a small-scale library system using Python, with JSON used for data storage instead of a traditional database. Object-oriented principles were applied through the creation of Book and Member classes, supporting real-world operations such as borrowing, returning, and reserving books.\n",
        "\n",
        "Structured file handling was used to convert CSV files to JSON format, and updates were made directly to the JSON files as required by each task. The notification system, developed with a basic `sendEmail()` function, successfully simulated messages for reserved book availability, late returns, and membership card issuance, leaving room for future enhancements such as more advanced messaging features.\n",
        "\n",
        "The system has been designed for future extensibility using clear OOP practices. Throughout the codebase, personal comments were included to clarify logic and decision-making.\n",
        "\n",
        "Overall, the solution balances functionality, structure, and simplicity effectively, meeting all assignment requirements.\n"
      ]
    }
  ],
  "metadata": {
    "colab": {
      "provenance": []
    },
    "kernelspec": {
      "display_name": "Python 3",
      "name": "python3"
    },
    "language_info": {
      "name": "python"
    }
  },
  "nbformat": 4,
  "nbformat_minor": 0
}